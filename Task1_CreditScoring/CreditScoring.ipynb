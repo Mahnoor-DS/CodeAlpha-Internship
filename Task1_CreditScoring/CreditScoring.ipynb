{
 "cells": [
  {
   "cell_type": "code",
   "execution_count": 4,
   "id": "76ea23ca",
   "metadata": {},
   "outputs": [],
   "source": [
    "import pandas as pd\n",
    "from sklearn.model_selection import train_test_split\n",
    "from sklearn.preprocessing import StandardScaler\n",
    "from sklearn.ensemble import RandomForestClassifier\n",
    "from sklearn.metrics import classification_report, accuracy_score\n"
   ]
  },
  {
   "cell_type": "code",
   "execution_count": 5,
   "id": "ff48adb3",
   "metadata": {},
   "outputs": [
    {
     "name": "stdout",
     "output_type": "stream",
     "text": [
      "  checking_acc_status  duration                     cred_hist  \\\n",
      "0             below_0         6  risky_acc_or_curr_loan_other   \n",
      "1           below_200        48          curr_loans_paid_duly   \n",
      "2      no_cheking_acc        12  risky_acc_or_curr_loan_other   \n",
      "3             below_0        42          curr_loans_paid_duly   \n",
      "4             below_0        24                 delay_in_past   \n",
      "\n",
      "               purpose  loan_amt       saving_acc_bonds  \\\n",
      "0             radio_tv      1169  unknown_no_saving_acc   \n",
      "1             radio_tv      5951              below_100   \n",
      "2            education      2096              below_100   \n",
      "3  furniture_equipment      7882              below_100   \n",
      "4              car_new      4870              below_100   \n",
      "\n",
      "  present_employment_since  installment_rate        personal_stat_gender  \\\n",
      "0                 above_7y                 4                 male:single   \n",
      "1                 below_4y                 2  female:divorced_or_married   \n",
      "2                 below_7y                 2                 male:single   \n",
      "3                 below_7y                 2                 male:single   \n",
      "4                 below_4y                 3                 male:single   \n",
      "\n",
      "  other_debtors_guarantors  ...                       property age  \\\n",
      "0                     none  ...                    real_estate  67   \n",
      "1                     none  ...                    real_estate  22   \n",
      "2                     none  ...                    real_estate  49   \n",
      "3                guarantor  ...  life_insurance_or_aggreements  45   \n",
      "4                     none  ...         unknown_or_no_property  53   \n",
      "\n",
      "   other_installment_plans   housing num_curr_loans                 job  \\\n",
      "0                     none       own              2    skilled_official   \n",
      "1                     none       own              1    skilled_official   \n",
      "2                     none       own              1  unskilled_resident   \n",
      "3                     none  for_free              1    skilled_official   \n",
      "4                     none  for_free              2    skilled_official   \n",
      "\n",
      "  num_people_provide_maint  telephone is_foreign_worker target  \n",
      "0                        1        yes               yes   good  \n",
      "1                        1         no               yes    bad  \n",
      "2                        2         no               yes   good  \n",
      "3                        2         no               yes   good  \n",
      "4                        2         no               yes    bad  \n",
      "\n",
      "[5 rows x 21 columns]\n"
     ]
    }
   ],
   "source": [
    "# Load the dataset\n",
    "data = pd.read_csv('german_credit_cleaned.csv')\n",
    "\n",
    "# Display the first few rows of the dataset\n",
    "print(data.head())\n"
   ]
  },
  {
   "cell_type": "code",
   "execution_count": 6,
   "id": "557d2bdb",
   "metadata": {},
   "outputs": [
    {
     "name": "stdout",
     "output_type": "stream",
     "text": [
      "checking_acc_status         0\n",
      "duration                    0\n",
      "cred_hist                   0\n",
      "purpose                     0\n",
      "loan_amt                    0\n",
      "saving_acc_bonds            0\n",
      "present_employment_since    0\n",
      "installment_rate            0\n",
      "personal_stat_gender        0\n",
      "other_debtors_guarantors    0\n",
      "present_residence_since     0\n",
      "property                    0\n",
      "age                         0\n",
      "other_installment_plans     0\n",
      "housing                     0\n",
      "num_curr_loans              0\n",
      "job                         0\n",
      "num_people_provide_maint    0\n",
      "telephone                   0\n",
      "is_foreign_worker           0\n",
      "target                      0\n",
      "dtype: int64\n"
     ]
    }
   ],
   "source": [
    "# Check for missing values\n",
    "print(data.isnull().sum())\n",
    "\n",
    "# Drop or fill missing values (if any)\n",
    "data.fillna(method='ffill', inplace=True)\n"
   ]
  },
  {
   "cell_type": "code",
   "execution_count": 7,
   "id": "6ba3d893",
   "metadata": {},
   "outputs": [],
   "source": [
    "# Convert categorical variables using one-hot encoding\n",
    "data_encoded = pd.get_dummies(data, drop_first=True)\n"
   ]
  },
  {
   "cell_type": "code",
   "execution_count": 9,
   "id": "23f5fe7f",
   "metadata": {},
   "outputs": [
    {
     "name": "stdout",
     "output_type": "stream",
     "text": [
      "Index(['duration', 'loan_amt', 'installment_rate', 'present_residence_since',\n",
      "       'age', 'num_curr_loans', 'num_people_provide_maint',\n",
      "       'checking_acc_status_below_0', 'checking_acc_status_below_200',\n",
      "       'checking_acc_status_no_cheking_acc', 'cred_hist_delay_in_past',\n",
      "       'cred_hist_no_loan_or_paid_duly_other', 'cred_hist_paid_duly_this_bank',\n",
      "       'cred_hist_risky_acc_or_curr_loan_other', 'purpose_car_new',\n",
      "       'purpose_car_used', 'purpose_domestic_applience', 'purpose_education',\n",
      "       'purpose_furniture_equipment', 'purpose_others', 'purpose_radio_tv',\n",
      "       'purpose_repairs', 'purpose_retraining', 'saving_acc_bonds_below_100',\n",
      "       'saving_acc_bonds_below_1000', 'saving_acc_bonds_below_500',\n",
      "       'saving_acc_bonds_unknown_no_saving_acc',\n",
      "       'present_employment_since_below_1y',\n",
      "       'present_employment_since_below_4y',\n",
      "       'present_employment_since_below_7y',\n",
      "       'present_employment_since_unemployed',\n",
      "       'personal_stat_gender_male:divorced',\n",
      "       'personal_stat_gender_male:married_or_widowed',\n",
      "       'personal_stat_gender_male:single',\n",
      "       'other_debtors_guarantors_guarantor', 'other_debtors_guarantors_none',\n",
      "       'property_life_insurance_or_aggreements', 'property_real_estate',\n",
      "       'property_unknown_or_no_property', 'other_installment_plans_none',\n",
      "       'other_installment_plans_store', 'housing_own', 'housing_rent',\n",
      "       'job_skilled_official', 'job_unemployed_non_resident',\n",
      "       'job_unskilled_resident', 'telephone_yes', 'is_foreign_worker_yes',\n",
      "       'target_good'],\n",
      "      dtype='object')\n"
     ]
    }
   ],
   "source": [
    "print(data_encoded.columns)\n"
   ]
  },
  {
   "cell_type": "code",
   "execution_count": 10,
   "id": "83fe536a",
   "metadata": {},
   "outputs": [],
   "source": [
    "# Define features and target\n",
    "X = data_encoded.drop('target_good', axis=1)\n",
    "y = data_encoded['target_good']\n"
   ]
  },
  {
   "cell_type": "code",
   "execution_count": 11,
   "id": "d4b90729",
   "metadata": {},
   "outputs": [],
   "source": [
    "from sklearn.model_selection import train_test_split\n",
    "\n",
    "# Split the data into training and testing sets\n",
    "X_train, X_test, y_train, y_test = train_test_split(X, y, test_size=0.3, random_state=42)\n"
   ]
  },
  {
   "cell_type": "code",
   "execution_count": 12,
   "id": "1f421f38",
   "metadata": {},
   "outputs": [],
   "source": [
    "from sklearn.preprocessing import StandardScaler\n",
    "\n",
    "# Standardize the features\n",
    "scaler = StandardScaler()\n",
    "X_train_scaled = scaler.fit_transform(X_train)\n",
    "X_test_scaled = scaler.transform(X_test)\n"
   ]
  },
  {
   "cell_type": "code",
   "execution_count": 13,
   "id": "38ac3939",
   "metadata": {},
   "outputs": [
    {
     "data": {
      "text/html": [
       "<style>#sk-container-id-1 {color: black;}#sk-container-id-1 pre{padding: 0;}#sk-container-id-1 div.sk-toggleable {background-color: white;}#sk-container-id-1 label.sk-toggleable__label {cursor: pointer;display: block;width: 100%;margin-bottom: 0;padding: 0.3em;box-sizing: border-box;text-align: center;}#sk-container-id-1 label.sk-toggleable__label-arrow:before {content: \"▸\";float: left;margin-right: 0.25em;color: #696969;}#sk-container-id-1 label.sk-toggleable__label-arrow:hover:before {color: black;}#sk-container-id-1 div.sk-estimator:hover label.sk-toggleable__label-arrow:before {color: black;}#sk-container-id-1 div.sk-toggleable__content {max-height: 0;max-width: 0;overflow: hidden;text-align: left;background-color: #f0f8ff;}#sk-container-id-1 div.sk-toggleable__content pre {margin: 0.2em;color: black;border-radius: 0.25em;background-color: #f0f8ff;}#sk-container-id-1 input.sk-toggleable__control:checked~div.sk-toggleable__content {max-height: 200px;max-width: 100%;overflow: auto;}#sk-container-id-1 input.sk-toggleable__control:checked~label.sk-toggleable__label-arrow:before {content: \"▾\";}#sk-container-id-1 div.sk-estimator input.sk-toggleable__control:checked~label.sk-toggleable__label {background-color: #d4ebff;}#sk-container-id-1 div.sk-label input.sk-toggleable__control:checked~label.sk-toggleable__label {background-color: #d4ebff;}#sk-container-id-1 input.sk-hidden--visually {border: 0;clip: rect(1px 1px 1px 1px);clip: rect(1px, 1px, 1px, 1px);height: 1px;margin: -1px;overflow: hidden;padding: 0;position: absolute;width: 1px;}#sk-container-id-1 div.sk-estimator {font-family: monospace;background-color: #f0f8ff;border: 1px dotted black;border-radius: 0.25em;box-sizing: border-box;margin-bottom: 0.5em;}#sk-container-id-1 div.sk-estimator:hover {background-color: #d4ebff;}#sk-container-id-1 div.sk-parallel-item::after {content: \"\";width: 100%;border-bottom: 1px solid gray;flex-grow: 1;}#sk-container-id-1 div.sk-label:hover label.sk-toggleable__label {background-color: #d4ebff;}#sk-container-id-1 div.sk-serial::before {content: \"\";position: absolute;border-left: 1px solid gray;box-sizing: border-box;top: 0;bottom: 0;left: 50%;z-index: 0;}#sk-container-id-1 div.sk-serial {display: flex;flex-direction: column;align-items: center;background-color: white;padding-right: 0.2em;padding-left: 0.2em;position: relative;}#sk-container-id-1 div.sk-item {position: relative;z-index: 1;}#sk-container-id-1 div.sk-parallel {display: flex;align-items: stretch;justify-content: center;background-color: white;position: relative;}#sk-container-id-1 div.sk-item::before, #sk-container-id-1 div.sk-parallel-item::before {content: \"\";position: absolute;border-left: 1px solid gray;box-sizing: border-box;top: 0;bottom: 0;left: 50%;z-index: -1;}#sk-container-id-1 div.sk-parallel-item {display: flex;flex-direction: column;z-index: 1;position: relative;background-color: white;}#sk-container-id-1 div.sk-parallel-item:first-child::after {align-self: flex-end;width: 50%;}#sk-container-id-1 div.sk-parallel-item:last-child::after {align-self: flex-start;width: 50%;}#sk-container-id-1 div.sk-parallel-item:only-child::after {width: 0;}#sk-container-id-1 div.sk-dashed-wrapped {border: 1px dashed gray;margin: 0 0.4em 0.5em 0.4em;box-sizing: border-box;padding-bottom: 0.4em;background-color: white;}#sk-container-id-1 div.sk-label label {font-family: monospace;font-weight: bold;display: inline-block;line-height: 1.2em;}#sk-container-id-1 div.sk-label-container {text-align: center;}#sk-container-id-1 div.sk-container {/* jupyter's `normalize.less` sets `[hidden] { display: none; }` but bootstrap.min.css set `[hidden] { display: none !important; }` so we also need the `!important` here to be able to override the default hidden behavior on the sphinx rendered scikit-learn.org. See: https://github.com/scikit-learn/scikit-learn/issues/21755 */display: inline-block !important;position: relative;}#sk-container-id-1 div.sk-text-repr-fallback {display: none;}</style><div id=\"sk-container-id-1\" class=\"sk-top-container\"><div class=\"sk-text-repr-fallback\"><pre>RandomForestClassifier(random_state=42)</pre><b>In a Jupyter environment, please rerun this cell to show the HTML representation or trust the notebook. <br />On GitHub, the HTML representation is unable to render, please try loading this page with nbviewer.org.</b></div><div class=\"sk-container\" hidden><div class=\"sk-item\"><div class=\"sk-estimator sk-toggleable\"><input class=\"sk-toggleable__control sk-hidden--visually\" id=\"sk-estimator-id-1\" type=\"checkbox\" checked><label for=\"sk-estimator-id-1\" class=\"sk-toggleable__label sk-toggleable__label-arrow\">RandomForestClassifier</label><div class=\"sk-toggleable__content\"><pre>RandomForestClassifier(random_state=42)</pre></div></div></div></div></div>"
      ],
      "text/plain": [
       "RandomForestClassifier(random_state=42)"
      ]
     },
     "execution_count": 13,
     "metadata": {},
     "output_type": "execute_result"
    }
   ],
   "source": [
    "from sklearn.ensemble import RandomForestClassifier\n",
    "\n",
    "# Train a Random Forest classifier\n",
    "clf = RandomForestClassifier(random_state=42)\n",
    "clf.fit(X_train_scaled, y_train)\n"
   ]
  },
  {
   "cell_type": "code",
   "execution_count": 14,
   "id": "1341e879",
   "metadata": {},
   "outputs": [
    {
     "name": "stdout",
     "output_type": "stream",
     "text": [
      "Accuracy: 0.76\n",
      "Classification Report:\n",
      "              precision    recall  f1-score   support\n",
      "\n",
      "       False       0.70      0.36      0.48        91\n",
      "        True       0.77      0.93      0.84       209\n",
      "\n",
      "    accuracy                           0.76       300\n",
      "   macro avg       0.74      0.65      0.66       300\n",
      "weighted avg       0.75      0.76      0.73       300\n",
      "\n"
     ]
    }
   ],
   "source": [
    "from sklearn.metrics import accuracy_score, classification_report\n",
    "\n",
    "# Make predictions\n",
    "y_pred = clf.predict(X_test_scaled)\n",
    "\n",
    "# Evaluate the accuracy and classification report\n",
    "accuracy = accuracy_score(y_test, y_pred)\n",
    "report = classification_report(y_test, y_pred)\n",
    "\n",
    "print(f'Accuracy: {accuracy}')\n",
    "print('Classification Report:')\n",
    "print(report)\n"
   ]
  },
  {
   "cell_type": "code",
   "execution_count": 15,
   "id": "6ed3e90d",
   "metadata": {},
   "outputs": [],
   "source": [
    "from sklearn.preprocessing import PolynomialFeatures\n",
    "\n",
    "# Initialize polynomial features with degree 2\n",
    "poly = PolynomialFeatures(degree=2, include_bias=False)\n",
    "\n",
    "# Apply polynomial transformation\n",
    "X_poly = poly.fit_transform(X)\n",
    "X_poly_df = pd.DataFrame(X_poly, columns=poly.get_feature_names_out())\n"
   ]
  },
  {
   "cell_type": "code",
   "execution_count": 16,
   "id": "16951983",
   "metadata": {},
   "outputs": [
    {
     "name": "stdout",
     "output_type": "stream",
     "text": [
      "                                         Feature  Importance\n",
      "1                                       loan_amt    0.111726\n",
      "0                                       duration    0.096467\n",
      "4                                            age    0.090544\n",
      "9             checking_acc_status_no_cheking_acc    0.055647\n",
      "7                    checking_acc_status_below_0    0.039590\n",
      "3                        present_residence_since    0.038043\n",
      "2                               installment_rate    0.036408\n",
      "5                                 num_curr_loans    0.023687\n",
      "13        cred_hist_risky_acc_or_curr_loan_other    0.023094\n",
      "23                    saving_acc_bonds_below_100    0.022078\n",
      "33              personal_stat_gender_male:single    0.020269\n",
      "43                          job_skilled_official    0.020095\n",
      "39                  other_installment_plans_none    0.019913\n",
      "46                                 telephone_yes    0.019664\n",
      "14                               purpose_car_new    0.019375\n",
      "37                          property_real_estate    0.018698\n",
      "28             present_employment_since_below_4y    0.018283\n",
      "8                  checking_acc_status_below_200    0.018055\n",
      "41                                   housing_own    0.017275\n",
      "27             present_employment_since_below_1y    0.017050\n",
      "26        saving_acc_bonds_unknown_no_saving_acc    0.015922\n",
      "36        property_life_insurance_or_aggreements    0.015809\n",
      "20                              purpose_radio_tv    0.015436\n",
      "18                   purpose_furniture_equipment    0.015081\n",
      "6                       num_people_provide_maint    0.014326\n",
      "38               property_unknown_or_no_property    0.013678\n",
      "45                        job_unskilled_resident    0.013090\n",
      "11          cred_hist_no_loan_or_paid_duly_other    0.012970\n",
      "35                 other_debtors_guarantors_none    0.012165\n",
      "10                       cred_hist_delay_in_past    0.011834\n",
      "42                                  housing_rent    0.011825\n",
      "12                 cred_hist_paid_duly_this_bank    0.011821\n",
      "29             present_employment_since_below_7y    0.011497\n",
      "32  personal_stat_gender_male:married_or_widowed    0.010512\n",
      "30           present_employment_since_unemployed    0.010418\n",
      "17                             purpose_education    0.010005\n",
      "15                              purpose_car_used    0.009724\n",
      "25                    saving_acc_bonds_below_500    0.008992\n",
      "31            personal_stat_gender_male:divorced    0.008325\n",
      "34            other_debtors_guarantors_guarantor    0.007706\n",
      "40                 other_installment_plans_store    0.007701\n",
      "24                   saving_acc_bonds_below_1000    0.006372\n",
      "47                         is_foreign_worker_yes    0.005111\n",
      "21                               purpose_repairs    0.004945\n",
      "44                   job_unemployed_non_resident    0.003089\n",
      "19                                purpose_others    0.002750\n",
      "16                    purpose_domestic_applience    0.002121\n",
      "22                            purpose_retraining    0.000813\n"
     ]
    }
   ],
   "source": [
    "from sklearn.ensemble import RandomForestClassifier\n",
    "\n",
    "# Train a Random Forest model to get feature importances\n",
    "clf = RandomForestClassifier(random_state=42)\n",
    "clf.fit(X, y)\n",
    "\n",
    "# Get feature importances\n",
    "importances = clf.feature_importances_\n",
    "feature_importance_df = pd.DataFrame({'Feature': X.columns, 'Importance': importances})\n",
    "print(feature_importance_df.sort_values(by='Importance', ascending=False))\n"
   ]
  },
  {
   "cell_type": "code",
   "execution_count": 17,
   "id": "6bd7fe09",
   "metadata": {},
   "outputs": [],
   "source": [
    "from sklearn.preprocessing import StandardScaler\n",
    "\n",
    "# Initialize and fit StandardScaler\n",
    "scaler = StandardScaler()\n",
    "X_scaled = scaler.fit_transform(X)\n"
   ]
  },
  {
   "cell_type": "code",
   "execution_count": 18,
   "id": "3f0fcae3",
   "metadata": {},
   "outputs": [
    {
     "name": "stdout",
     "output_type": "stream",
     "text": [
      "Index(['target_good'], dtype='object')\n"
     ]
    }
   ],
   "source": [
    "correlation_matrix = data_encoded.corr()\n",
    "highly_correlated_features = correlation_matrix.index[abs(correlation_matrix['target_good']) > 0.5]\n",
    "print(highly_correlated_features)\n"
   ]
  },
  {
   "cell_type": "code",
   "execution_count": 19,
   "id": "a442b348",
   "metadata": {},
   "outputs": [
    {
     "name": "stdout",
     "output_type": "stream",
     "text": [
      "Accuracy: 0.78\n",
      "Classification Report:\n",
      "              precision    recall  f1-score   support\n",
      "\n",
      "       False       0.73      0.44      0.55        91\n",
      "        True       0.79      0.93      0.85       209\n",
      "\n",
      "    accuracy                           0.78       300\n",
      "   macro avg       0.76      0.68      0.70       300\n",
      "weighted avg       0.77      0.78      0.76       300\n",
      "\n"
     ]
    }
   ],
   "source": [
    "# Create new polynomial features\n",
    "poly = PolynomialFeatures(degree=2, include_bias=False)\n",
    "X_poly = poly.fit_transform(X)\n",
    "X_poly_df = pd.DataFrame(X_poly, columns=poly.get_feature_names_out())\n",
    "\n",
    "# Standardize the new features\n",
    "scaler = StandardScaler()\n",
    "X_scaled = scaler.fit_transform(X_poly_df)\n",
    "\n",
    "# Split the data\n",
    "X_train, X_test, y_train, y_test = train_test_split(X_scaled, y, test_size=0.3, random_state=42)\n",
    "\n",
    "# Train the Random Forest classifier\n",
    "clf = RandomForestClassifier(random_state=42)\n",
    "clf.fit(X_train, y_train)\n",
    "\n",
    "# Evaluate the model\n",
    "y_pred = clf.predict(X_test)\n",
    "accuracy = accuracy_score(y_test, y_pred)\n",
    "report = classification_report(y_test, y_pred)\n",
    "\n",
    "print(f'Accuracy: {accuracy}')\n",
    "print('Classification Report:')\n",
    "print(report)\n"
   ]
  },
  {
   "cell_type": "code",
   "execution_count": 22,
   "id": "92e200a9",
   "metadata": {},
   "outputs": [
    {
     "name": "stdout",
     "output_type": "stream",
     "text": [
      "Fitting 5 folds for each of 27 candidates, totalling 135 fits\n",
      "Best parameters: {'learning_rate': 0.1, 'max_depth': 3, 'n_estimators': 50}\n",
      "Best score: 0.7385714285714287\n",
      "Accuracy: 0.7533333333333333\n",
      "Classification Report:\n",
      "              precision    recall  f1-score   support\n",
      "\n",
      "       False       0.68      0.35      0.46        91\n",
      "        True       0.77      0.93      0.84       209\n",
      "\n",
      "    accuracy                           0.75       300\n",
      "   macro avg       0.72      0.64      0.65       300\n",
      "weighted avg       0.74      0.75      0.73       300\n",
      "\n"
     ]
    }
   ],
   "source": [
    "from sklearn.ensemble import GradientBoostingClassifier\n",
    "from sklearn.model_selection import GridSearchCV\n",
    "\n",
    "# Define the model\n",
    "gbc = GradientBoostingClassifier(random_state=42)\n",
    "\n",
    "# Define the hyperparameters to tune\n",
    "param_grid = {\n",
    "    'n_estimators': [50, 100, 200],\n",
    "    'learning_rate': [0.01, 0.1, 1],\n",
    "    'max_depth': [3, 5, 7]\n",
    "}\n",
    "\n",
    "# Initialize GridSearchCV\n",
    "grid_search = GridSearchCV(estimator=gbc, param_grid=param_grid, cv=5, n_jobs=-1, verbose=2)\n",
    "\n",
    "# Fit GridSearchCV\n",
    "grid_search.fit(X_train, y_train)\n",
    "\n",
    "# Best parameters and score\n",
    "print(\"Best parameters:\", grid_search.best_params_)\n",
    "print(\"Best score:\", grid_search.best_score_)\n",
    "\n",
    "# Evaluate the best model\n",
    "best_gbc = grid_search.best_estimator_\n",
    "y_pred = best_gbc.predict(X_test)\n",
    "accuracy = accuracy_score(y_test, y_pred)\n",
    "report = classification_report(y_test, y_pred)\n",
    "\n",
    "print(f'Accuracy: {accuracy}')\n",
    "print('Classification Report:')\n",
    "print(report)\n",
    "\n",
    "\n"
   ]
  },
  {
   "cell_type": "code",
   "execution_count": null,
   "id": "380d42a3",
   "metadata": {},
   "outputs": [],
   "source": []
  }
 ],
 "metadata": {
  "kernelspec": {
   "display_name": "Python 3 (ipykernel)",
   "language": "python",
   "name": "python3"
  },
  "language_info": {
   "codemirror_mode": {
    "name": "ipython",
    "version": 3
   },
   "file_extension": ".py",
   "mimetype": "text/x-python",
   "name": "python",
   "nbconvert_exporter": "python",
   "pygments_lexer": "ipython3",
   "version": "3.11.5"
  }
 },
 "nbformat": 4,
 "nbformat_minor": 5
}
