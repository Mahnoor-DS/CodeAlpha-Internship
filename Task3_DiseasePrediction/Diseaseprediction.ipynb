{
 "cells": [
  {
   "cell_type": "code",
   "execution_count": 1,
   "id": "bdca4245",
   "metadata": {},
   "outputs": [],
   "source": [
    "import pandas as pd\n",
    "import numpy as np\n",
    "import matplotlib.pyplot as plt\n",
    "import seaborn as sns\n",
    "from sklearn.model_selection import train_test_split\n",
    "from sklearn.preprocessing import StandardScaler\n",
    "from sklearn.linear_model import LogisticRegression\n",
    "from sklearn.metrics import classification_report, confusion_matrix\n"
   ]
  },
  {
   "cell_type": "code",
   "execution_count": 2,
   "id": "6a4b5950",
   "metadata": {},
   "outputs": [
    {
     "name": "stdout",
     "output_type": "stream",
     "text": [
      "   PatientID  Age  Gender  Ethnicity  EducationLevel        BMI  Smoking  \\\n",
      "0       4751   73       0          0               2  22.927749        0   \n",
      "1       4752   89       0          0               0  26.827681        0   \n",
      "2       4753   73       0          3               1  17.795882        0   \n",
      "3       4754   74       1          0               1  33.800817        1   \n",
      "4       4755   89       0          0               0  20.716974        0   \n",
      "\n",
      "   AlcoholConsumption  PhysicalActivity  DietQuality  ...  MemoryComplaints  \\\n",
      "0           13.297218          6.327112     1.347214  ...                 0   \n",
      "1            4.542524          7.619885     0.518767  ...                 0   \n",
      "2           19.555085          7.844988     1.826335  ...                 0   \n",
      "3           12.209266          8.428001     7.435604  ...                 0   \n",
      "4           18.454356          6.310461     0.795498  ...                 0   \n",
      "\n",
      "   BehavioralProblems       ADL  Confusion  Disorientation  \\\n",
      "0                   0  1.725883          0               0   \n",
      "1                   0  2.592424          0               0   \n",
      "2                   0  7.119548          0               1   \n",
      "3                   1  6.481226          0               0   \n",
      "4                   0  0.014691          0               0   \n",
      "\n",
      "   PersonalityChanges  DifficultyCompletingTasks  Forgetfulness  Diagnosis  \\\n",
      "0                   0                          1              0          0   \n",
      "1                   0                          0              1          0   \n",
      "2                   0                          1              0          0   \n",
      "3                   0                          0              0          0   \n",
      "4                   1                          1              0          0   \n",
      "\n",
      "   DoctorInCharge  \n",
      "0       XXXConfid  \n",
      "1       XXXConfid  \n",
      "2       XXXConfid  \n",
      "3       XXXConfid  \n",
      "4       XXXConfid  \n",
      "\n",
      "[5 rows x 35 columns]\n"
     ]
    }
   ],
   "source": [
    "# Load the dataset\n",
    "df = pd.read_csv('alzheimers_disease_data.csv ')\n",
    "\n",
    "# Display the first few rows of the dataset\n",
    "print(df.head())\n"
   ]
  },
  {
   "cell_type": "code",
   "execution_count": 3,
   "id": "ffd9c633",
   "metadata": {},
   "outputs": [
    {
     "data": {
      "text/plain": [
       "<bound method DataFrame.info of       PatientID  Age  Gender  Ethnicity  EducationLevel        BMI  Smoking  \\\n",
       "0          4751   73       0          0               2  22.927749        0   \n",
       "1          4752   89       0          0               0  26.827681        0   \n",
       "2          4753   73       0          3               1  17.795882        0   \n",
       "3          4754   74       1          0               1  33.800817        1   \n",
       "4          4755   89       0          0               0  20.716974        0   \n",
       "...         ...  ...     ...        ...             ...        ...      ...   \n",
       "2144       6895   61       0          0               1  39.121757        0   \n",
       "2145       6896   75       0          0               2  17.857903        0   \n",
       "2146       6897   77       0          0               1  15.476479        0   \n",
       "2147       6898   78       1          3               1  15.299911        0   \n",
       "2148       6899   72       0          0               2  33.289738        0   \n",
       "\n",
       "      AlcoholConsumption  PhysicalActivity  DietQuality  ...  \\\n",
       "0              13.297218          6.327112     1.347214  ...   \n",
       "1               4.542524          7.619885     0.518767  ...   \n",
       "2              19.555085          7.844988     1.826335  ...   \n",
       "3              12.209266          8.428001     7.435604  ...   \n",
       "4              18.454356          6.310461     0.795498  ...   \n",
       "...                  ...               ...          ...  ...   \n",
       "2144            1.561126          4.049964     6.555306  ...   \n",
       "2145           18.767261          1.360667     2.904662  ...   \n",
       "2146            4.594670          9.886002     8.120025  ...   \n",
       "2147            8.674505          6.354282     1.263427  ...   \n",
       "2148            7.890703          6.570993     7.941404  ...   \n",
       "\n",
       "      MemoryComplaints  BehavioralProblems       ADL  Confusion  \\\n",
       "0                    0                   0  1.725883          0   \n",
       "1                    0                   0  2.592424          0   \n",
       "2                    0                   0  7.119548          0   \n",
       "3                    0                   1  6.481226          0   \n",
       "4                    0                   0  0.014691          0   \n",
       "...                ...                 ...       ...        ...   \n",
       "2144                 0                   0  4.492838          1   \n",
       "2145                 0                   1  9.204952          0   \n",
       "2146                 0                   0  5.036334          0   \n",
       "2147                 0                   0  3.785399          0   \n",
       "2148                 0                   1  8.327563          0   \n",
       "\n",
       "      Disorientation  PersonalityChanges  DifficultyCompletingTasks  \\\n",
       "0                  0                   0                          1   \n",
       "1                  0                   0                          0   \n",
       "2                  1                   0                          1   \n",
       "3                  0                   0                          0   \n",
       "4                  0                   1                          1   \n",
       "...              ...                 ...                        ...   \n",
       "2144               0                   0                          0   \n",
       "2145               0                   0                          0   \n",
       "2146               0                   0                          0   \n",
       "2147               0                   0                          0   \n",
       "2148               1                   0                          0   \n",
       "\n",
       "      Forgetfulness  Diagnosis  DoctorInCharge  \n",
       "0                 0          0       XXXConfid  \n",
       "1                 1          0       XXXConfid  \n",
       "2                 0          0       XXXConfid  \n",
       "3                 0          0       XXXConfid  \n",
       "4                 0          0       XXXConfid  \n",
       "...             ...        ...             ...  \n",
       "2144              0          1       XXXConfid  \n",
       "2145              0          1       XXXConfid  \n",
       "2146              0          1       XXXConfid  \n",
       "2147              1          1       XXXConfid  \n",
       "2148              1          0       XXXConfid  \n",
       "\n",
       "[2149 rows x 35 columns]>"
      ]
     },
     "execution_count": 3,
     "metadata": {},
     "output_type": "execute_result"
    }
   ],
   "source": [
    "df.info\n"
   ]
  },
  {
   "cell_type": "code",
   "execution_count": 14,
   "id": "227af172",
   "metadata": {},
   "outputs": [
    {
     "data": {
      "text/html": [
       "<div>\n",
       "<style scoped>\n",
       "    .dataframe tbody tr th:only-of-type {\n",
       "        vertical-align: middle;\n",
       "    }\n",
       "\n",
       "    .dataframe tbody tr th {\n",
       "        vertical-align: top;\n",
       "    }\n",
       "\n",
       "    .dataframe thead th {\n",
       "        text-align: right;\n",
       "    }\n",
       "</style>\n",
       "<table border=\"1\" class=\"dataframe\">\n",
       "  <thead>\n",
       "    <tr style=\"text-align: right;\">\n",
       "      <th></th>\n",
       "      <th>PatientID</th>\n",
       "      <th>Age</th>\n",
       "      <th>Gender</th>\n",
       "      <th>Ethnicity</th>\n",
       "      <th>EducationLevel</th>\n",
       "      <th>BMI</th>\n",
       "      <th>Smoking</th>\n",
       "      <th>AlcoholConsumption</th>\n",
       "      <th>PhysicalActivity</th>\n",
       "      <th>DietQuality</th>\n",
       "      <th>...</th>\n",
       "      <th>FunctionalAssessment</th>\n",
       "      <th>MemoryComplaints</th>\n",
       "      <th>BehavioralProblems</th>\n",
       "      <th>ADL</th>\n",
       "      <th>Confusion</th>\n",
       "      <th>Disorientation</th>\n",
       "      <th>PersonalityChanges</th>\n",
       "      <th>DifficultyCompletingTasks</th>\n",
       "      <th>Forgetfulness</th>\n",
       "      <th>Diagnosis</th>\n",
       "    </tr>\n",
       "  </thead>\n",
       "  <tbody>\n",
       "    <tr>\n",
       "      <th>count</th>\n",
       "      <td>2149.000000</td>\n",
       "      <td>2149.000000</td>\n",
       "      <td>2149.000000</td>\n",
       "      <td>2149.000000</td>\n",
       "      <td>2149.000000</td>\n",
       "      <td>2149.000000</td>\n",
       "      <td>2149.000000</td>\n",
       "      <td>2149.000000</td>\n",
       "      <td>2149.000000</td>\n",
       "      <td>2149.000000</td>\n",
       "      <td>...</td>\n",
       "      <td>2149.000000</td>\n",
       "      <td>2149.000000</td>\n",
       "      <td>2149.000000</td>\n",
       "      <td>2149.000000</td>\n",
       "      <td>2149.000000</td>\n",
       "      <td>2149.000000</td>\n",
       "      <td>2149.000000</td>\n",
       "      <td>2149.000000</td>\n",
       "      <td>2149.000000</td>\n",
       "      <td>0.0</td>\n",
       "    </tr>\n",
       "    <tr>\n",
       "      <th>mean</th>\n",
       "      <td>5825.000000</td>\n",
       "      <td>74.908795</td>\n",
       "      <td>0.506282</td>\n",
       "      <td>0.697534</td>\n",
       "      <td>1.286645</td>\n",
       "      <td>27.655697</td>\n",
       "      <td>0.288506</td>\n",
       "      <td>10.039442</td>\n",
       "      <td>4.920202</td>\n",
       "      <td>4.993138</td>\n",
       "      <td>...</td>\n",
       "      <td>5.080055</td>\n",
       "      <td>0.208004</td>\n",
       "      <td>0.156817</td>\n",
       "      <td>4.982958</td>\n",
       "      <td>0.205212</td>\n",
       "      <td>0.158213</td>\n",
       "      <td>0.150768</td>\n",
       "      <td>0.158678</td>\n",
       "      <td>0.301536</td>\n",
       "      <td>NaN</td>\n",
       "    </tr>\n",
       "    <tr>\n",
       "      <th>std</th>\n",
       "      <td>620.507185</td>\n",
       "      <td>8.990221</td>\n",
       "      <td>0.500077</td>\n",
       "      <td>0.996128</td>\n",
       "      <td>0.904527</td>\n",
       "      <td>7.217438</td>\n",
       "      <td>0.453173</td>\n",
       "      <td>5.757910</td>\n",
       "      <td>2.857191</td>\n",
       "      <td>2.909055</td>\n",
       "      <td>...</td>\n",
       "      <td>2.892743</td>\n",
       "      <td>0.405974</td>\n",
       "      <td>0.363713</td>\n",
       "      <td>2.949775</td>\n",
       "      <td>0.403950</td>\n",
       "      <td>0.365026</td>\n",
       "      <td>0.357906</td>\n",
       "      <td>0.365461</td>\n",
       "      <td>0.459032</td>\n",
       "      <td>NaN</td>\n",
       "    </tr>\n",
       "    <tr>\n",
       "      <th>min</th>\n",
       "      <td>4751.000000</td>\n",
       "      <td>60.000000</td>\n",
       "      <td>0.000000</td>\n",
       "      <td>0.000000</td>\n",
       "      <td>0.000000</td>\n",
       "      <td>15.008851</td>\n",
       "      <td>0.000000</td>\n",
       "      <td>0.002003</td>\n",
       "      <td>0.003616</td>\n",
       "      <td>0.009385</td>\n",
       "      <td>...</td>\n",
       "      <td>0.000460</td>\n",
       "      <td>0.000000</td>\n",
       "      <td>0.000000</td>\n",
       "      <td>0.001288</td>\n",
       "      <td>0.000000</td>\n",
       "      <td>0.000000</td>\n",
       "      <td>0.000000</td>\n",
       "      <td>0.000000</td>\n",
       "      <td>0.000000</td>\n",
       "      <td>NaN</td>\n",
       "    </tr>\n",
       "    <tr>\n",
       "      <th>25%</th>\n",
       "      <td>5288.000000</td>\n",
       "      <td>67.000000</td>\n",
       "      <td>0.000000</td>\n",
       "      <td>0.000000</td>\n",
       "      <td>1.000000</td>\n",
       "      <td>21.611408</td>\n",
       "      <td>0.000000</td>\n",
       "      <td>5.139810</td>\n",
       "      <td>2.570626</td>\n",
       "      <td>2.458455</td>\n",
       "      <td>...</td>\n",
       "      <td>2.566281</td>\n",
       "      <td>0.000000</td>\n",
       "      <td>0.000000</td>\n",
       "      <td>2.342836</td>\n",
       "      <td>0.000000</td>\n",
       "      <td>0.000000</td>\n",
       "      <td>0.000000</td>\n",
       "      <td>0.000000</td>\n",
       "      <td>0.000000</td>\n",
       "      <td>NaN</td>\n",
       "    </tr>\n",
       "    <tr>\n",
       "      <th>50%</th>\n",
       "      <td>5825.000000</td>\n",
       "      <td>75.000000</td>\n",
       "      <td>1.000000</td>\n",
       "      <td>0.000000</td>\n",
       "      <td>1.000000</td>\n",
       "      <td>27.823924</td>\n",
       "      <td>0.000000</td>\n",
       "      <td>9.934412</td>\n",
       "      <td>4.766424</td>\n",
       "      <td>5.076087</td>\n",
       "      <td>...</td>\n",
       "      <td>5.094439</td>\n",
       "      <td>0.000000</td>\n",
       "      <td>0.000000</td>\n",
       "      <td>5.038973</td>\n",
       "      <td>0.000000</td>\n",
       "      <td>0.000000</td>\n",
       "      <td>0.000000</td>\n",
       "      <td>0.000000</td>\n",
       "      <td>0.000000</td>\n",
       "      <td>NaN</td>\n",
       "    </tr>\n",
       "    <tr>\n",
       "      <th>75%</th>\n",
       "      <td>6362.000000</td>\n",
       "      <td>83.000000</td>\n",
       "      <td>1.000000</td>\n",
       "      <td>1.000000</td>\n",
       "      <td>2.000000</td>\n",
       "      <td>33.869778</td>\n",
       "      <td>1.000000</td>\n",
       "      <td>15.157931</td>\n",
       "      <td>7.427899</td>\n",
       "      <td>7.558625</td>\n",
       "      <td>...</td>\n",
       "      <td>7.546981</td>\n",
       "      <td>0.000000</td>\n",
       "      <td>0.000000</td>\n",
       "      <td>7.581490</td>\n",
       "      <td>0.000000</td>\n",
       "      <td>0.000000</td>\n",
       "      <td>0.000000</td>\n",
       "      <td>0.000000</td>\n",
       "      <td>1.000000</td>\n",
       "      <td>NaN</td>\n",
       "    </tr>\n",
       "    <tr>\n",
       "      <th>max</th>\n",
       "      <td>6899.000000</td>\n",
       "      <td>90.000000</td>\n",
       "      <td>1.000000</td>\n",
       "      <td>3.000000</td>\n",
       "      <td>3.000000</td>\n",
       "      <td>39.992767</td>\n",
       "      <td>1.000000</td>\n",
       "      <td>19.989293</td>\n",
       "      <td>9.987429</td>\n",
       "      <td>9.998346</td>\n",
       "      <td>...</td>\n",
       "      <td>9.996467</td>\n",
       "      <td>1.000000</td>\n",
       "      <td>1.000000</td>\n",
       "      <td>9.999747</td>\n",
       "      <td>1.000000</td>\n",
       "      <td>1.000000</td>\n",
       "      <td>1.000000</td>\n",
       "      <td>1.000000</td>\n",
       "      <td>1.000000</td>\n",
       "      <td>NaN</td>\n",
       "    </tr>\n",
       "  </tbody>\n",
       "</table>\n",
       "<p>8 rows × 34 columns</p>\n",
       "</div>"
      ],
      "text/plain": [
       "         PatientID          Age       Gender    Ethnicity  EducationLevel  \\\n",
       "count  2149.000000  2149.000000  2149.000000  2149.000000     2149.000000   \n",
       "mean   5825.000000    74.908795     0.506282     0.697534        1.286645   \n",
       "std     620.507185     8.990221     0.500077     0.996128        0.904527   \n",
       "min    4751.000000    60.000000     0.000000     0.000000        0.000000   \n",
       "25%    5288.000000    67.000000     0.000000     0.000000        1.000000   \n",
       "50%    5825.000000    75.000000     1.000000     0.000000        1.000000   \n",
       "75%    6362.000000    83.000000     1.000000     1.000000        2.000000   \n",
       "max    6899.000000    90.000000     1.000000     3.000000        3.000000   \n",
       "\n",
       "               BMI      Smoking  AlcoholConsumption  PhysicalActivity  \\\n",
       "count  2149.000000  2149.000000         2149.000000       2149.000000   \n",
       "mean     27.655697     0.288506           10.039442          4.920202   \n",
       "std       7.217438     0.453173            5.757910          2.857191   \n",
       "min      15.008851     0.000000            0.002003          0.003616   \n",
       "25%      21.611408     0.000000            5.139810          2.570626   \n",
       "50%      27.823924     0.000000            9.934412          4.766424   \n",
       "75%      33.869778     1.000000           15.157931          7.427899   \n",
       "max      39.992767     1.000000           19.989293          9.987429   \n",
       "\n",
       "       DietQuality  ...  FunctionalAssessment  MemoryComplaints  \\\n",
       "count  2149.000000  ...           2149.000000       2149.000000   \n",
       "mean      4.993138  ...              5.080055          0.208004   \n",
       "std       2.909055  ...              2.892743          0.405974   \n",
       "min       0.009385  ...              0.000460          0.000000   \n",
       "25%       2.458455  ...              2.566281          0.000000   \n",
       "50%       5.076087  ...              5.094439          0.000000   \n",
       "75%       7.558625  ...              7.546981          0.000000   \n",
       "max       9.998346  ...              9.996467          1.000000   \n",
       "\n",
       "       BehavioralProblems          ADL    Confusion  Disorientation  \\\n",
       "count         2149.000000  2149.000000  2149.000000     2149.000000   \n",
       "mean             0.156817     4.982958     0.205212        0.158213   \n",
       "std              0.363713     2.949775     0.403950        0.365026   \n",
       "min              0.000000     0.001288     0.000000        0.000000   \n",
       "25%              0.000000     2.342836     0.000000        0.000000   \n",
       "50%              0.000000     5.038973     0.000000        0.000000   \n",
       "75%              0.000000     7.581490     0.000000        0.000000   \n",
       "max              1.000000     9.999747     1.000000        1.000000   \n",
       "\n",
       "       PersonalityChanges  DifficultyCompletingTasks  Forgetfulness  Diagnosis  \n",
       "count         2149.000000                2149.000000    2149.000000        0.0  \n",
       "mean             0.150768                   0.158678       0.301536        NaN  \n",
       "std              0.357906                   0.365461       0.459032        NaN  \n",
       "min              0.000000                   0.000000       0.000000        NaN  \n",
       "25%              0.000000                   0.000000       0.000000        NaN  \n",
       "50%              0.000000                   0.000000       0.000000        NaN  \n",
       "75%              0.000000                   0.000000       1.000000        NaN  \n",
       "max              1.000000                   1.000000       1.000000        NaN  \n",
       "\n",
       "[8 rows x 34 columns]"
      ]
     },
     "execution_count": 14,
     "metadata": {},
     "output_type": "execute_result"
    }
   ],
   "source": [
    "df.describe()"
   ]
  },
  {
   "cell_type": "code",
   "execution_count": 6,
   "id": "09add891",
   "metadata": {},
   "outputs": [
    {
     "name": "stdout",
     "output_type": "stream",
     "text": [
      "Diagnosis\n",
      "0    1389\n",
      "1     760\n",
      "Name: count, dtype: int64\n"
     ]
    }
   ],
   "source": [
    "# Check the distribution of the target variable\n",
    "print(df['Diagnosis'].value_counts())\n"
   ]
  },
  {
   "cell_type": "code",
   "execution_count": 20,
   "id": "1a2912c1",
   "metadata": {},
   "outputs": [],
   "source": [
    "# Convert categorical target variable to numerical (if needed, in your case it seems it's already 0 and 1)\n",
    "# If no conversion needed, you can skip this line.\n",
    "df['Diagnosis'] = df['Diagnosis'].map({0: 0, 1: 1})  # Adjust if necessary\n",
    "\n"
   ]
  },
  {
   "cell_type": "code",
   "execution_count": 12,
   "id": "6d18e13c",
   "metadata": {},
   "outputs": [
    {
     "data": {
      "image/png": "[encoded data removed]",
      "text/plain": [
       "<Figure size 1500x1000 with 1 Axes>"
      ]
     },
     "metadata": {},
     "output_type": "display_data"
    }
   ],
   "source": [
    "import matplotlib.pyplot as plt\n",
    "import seaborn as sns\n",
    "\n",
    "# Plot boxplots for all features\n",
    "plt.figure(figsize=(15, 10))\n",
    "sns.boxplot(data=df)\n",
    "plt.xticks(rotation=90)\n",
    "plt.show()\n"
   ]
  },
  {
   "cell_type": "code",
   "execution_count": 23,
   "id": "131ee9ff",
   "metadata": {},
   "outputs": [
    {
     "name": "stdout",
     "output_type": "stream",
     "text": [
      "   Age  Gender  Ethnicity  EducationLevel        BMI  Smoking  \\\n",
      "0   73       0          0               2  22.927749        0   \n",
      "1   89       0          0               0  26.827681        0   \n",
      "2   73       0          3               1  17.795882        0   \n",
      "3   74       1          0               1  33.800817        1   \n",
      "4   89       0          0               0  20.716974        0   \n",
      "\n",
      "   AlcoholConsumption  PhysicalActivity  DietQuality  SleepQuality  ...  \\\n",
      "0           13.297218          6.327112     1.347214      9.025679  ...   \n",
      "1            4.542524          7.619885     0.518767      7.151293  ...   \n",
      "2           19.555085          7.844988     1.826335      9.673574  ...   \n",
      "3           12.209266          8.428001     7.435604      8.392554  ...   \n",
      "4           18.454356          6.310461     0.795498      5.597238  ...   \n",
      "\n",
      "   MemoryComplaints  BehavioralProblems       ADL  Confusion  Disorientation  \\\n",
      "0                 0                   0  1.725883          0               0   \n",
      "1                 0                   0  2.592424          0               0   \n",
      "2                 0                   0  7.119548          0               1   \n",
      "3                 0                   1  6.481226          0               0   \n",
      "4                 0                   0  0.014691          0               0   \n",
      "\n",
      "   PersonalityChanges  DifficultyCompletingTasks  Forgetfulness  Diagnosis  \\\n",
      "0                   0                          1              0        NaN   \n",
      "1                   0                          0              1        NaN   \n",
      "2                   0                          1              0        NaN   \n",
      "3                   0                          0              0        NaN   \n",
      "4                   1                          1              0        NaN   \n",
      "\n",
      "   DoctorInCharge  \n",
      "0       XXXConfid  \n",
      "1       XXXConfid  \n",
      "2       XXXConfid  \n",
      "3       XXXConfid  \n",
      "4       XXXConfid  \n",
      "\n",
      "[5 rows x 34 columns]\n"
     ]
    }
   ],
   "source": [
    "#in the cleaning process we drop 2 columns , we drop patientid and doctorincharge\n",
    "\n",
    "# Check if 'PatientID' column exists before dropping it\n",
    "if 'PatientID' in df.columns:\n",
    "    df = df.drop(['PatientID'], axis=1)\n",
    "\n",
    "# Check the cleaned data\n",
    "print(df.head())\n"
   ]
  },
  {
   "cell_type": "code",
   "execution_count": 24,
   "id": "6a05e5be",
   "metadata": {},
   "outputs": [
    {
     "name": "stdout",
     "output_type": "stream",
     "text": [
      "The 'PatientID' column does not exist in the DataFrame.\n",
      "   Age  Gender  Ethnicity  EducationLevel        BMI  Smoking  \\\n",
      "0   73       0          0               2  22.927749        0   \n",
      "1   89       0          0               0  26.827681        0   \n",
      "2   73       0          3               1  17.795882        0   \n",
      "3   74       1          0               1  33.800817        1   \n",
      "4   89       0          0               0  20.716974        0   \n",
      "\n",
      "   AlcoholConsumption  PhysicalActivity  DietQuality  SleepQuality  ...  \\\n",
      "0           13.297218          6.327112     1.347214      9.025679  ...   \n",
      "1            4.542524          7.619885     0.518767      7.151293  ...   \n",
      "2           19.555085          7.844988     1.826335      9.673574  ...   \n",
      "3           12.209266          8.428001     7.435604      8.392554  ...   \n",
      "4           18.454356          6.310461     0.795498      5.597238  ...   \n",
      "\n",
      "   MemoryComplaints  BehavioralProblems       ADL  Confusion  Disorientation  \\\n",
      "0                 0                   0  1.725883          0               0   \n",
      "1                 0                   0  2.592424          0               0   \n",
      "2                 0                   0  7.119548          0               1   \n",
      "3                 0                   1  6.481226          0               0   \n",
      "4                 0                   0  0.014691          0               0   \n",
      "\n",
      "   PersonalityChanges  DifficultyCompletingTasks  Forgetfulness  Diagnosis  \\\n",
      "0                   0                          1              0        NaN   \n",
      "1                   0                          0              1        NaN   \n",
      "2                   0                          1              0        NaN   \n",
      "3                   0                          0              0        NaN   \n",
      "4                   1                          1              0        NaN   \n",
      "\n",
      "   DoctorInCharge  \n",
      "0       XXXConfid  \n",
      "1       XXXConfid  \n",
      "2       XXXConfid  \n",
      "3       XXXConfid  \n",
      "4       XXXConfid  \n",
      "\n",
      "[5 rows x 34 columns]\n"
     ]
    }
   ],
   "source": [
    "try:\n",
    "    df = df.drop(['PatientID'], axis=1)\n",
    "except KeyError:\n",
    "    print(\"The 'PatientID' column does not exist in the DataFrame.\")\n",
    "\n",
    "# Check the cleaned data\n",
    "print(df.head())\n"
   ]
  },
  {
   "cell_type": "code",
   "execution_count": 29,
   "id": "6114e039",
   "metadata": {},
   "outputs": [
    {
     "name": "stdout",
     "output_type": "stream",
     "text": [
      "        Age    Gender  Ethnicity  EducationLevel       BMI   Smoking  \\\n",
      "0 -0.212368 -1.012644  -0.700408        0.788833 -0.655225 -0.636784   \n",
      "1  1.567757 -1.012644  -0.700408       -1.422782 -0.114751 -0.636784   \n",
      "2 -0.212368 -1.012644   2.311955       -0.316974 -1.366428 -0.636784   \n",
      "3 -0.101111  0.987514  -0.700408       -0.316974  0.851625  1.570391   \n",
      "4  1.567757 -1.012644  -0.700408       -1.422782 -0.961607 -0.636784   \n",
      "\n",
      "   AlcoholConsumption  PhysicalActivity  DietQuality  SleepQuality  ...  \\\n",
      "0            0.565923          0.492525    -1.253593      1.119918  ...   \n",
      "1           -0.954895          0.945093    -1.538442      0.056836  ...   \n",
      "2            1.653006          1.023896    -1.088855      1.487380  ...   \n",
      "3            0.376930          1.227995     0.839804      0.760833  ...   \n",
      "4            1.461793          0.486696    -1.443293     -0.824566  ...   \n",
      "\n",
      "   FunctionalAssessment  MemoryComplaints  BehavioralProblems       ADL  \\\n",
      "0              0.497506         -0.512477           -0.431257 -1.104434   \n",
      "1              0.704907         -0.512477           -0.431257 -0.810601   \n",
      "2              0.281813         -0.512477           -0.431257  0.724491   \n",
      "3              1.343346         -0.512477            2.318805  0.508044   \n",
      "4              0.333665         -0.512477           -0.431257 -1.684679   \n",
      "\n",
      "   Confusion  Disorientation  PersonalityChanges  DifficultyCompletingTasks  \\\n",
      "0  -0.508131       -0.433531           -0.421348                   2.302619   \n",
      "1  -0.508131       -0.433531           -0.421348                  -0.434288   \n",
      "2  -0.508131        2.306640           -0.421348                   2.302619   \n",
      "3  -0.508131       -0.433531           -0.421348                  -0.434288   \n",
      "4  -0.508131       -0.433531            2.373334                   2.302619   \n",
      "\n",
      "   Forgetfulness  Diagnosis  \n",
      "0      -0.657048        NaN  \n",
      "1       1.521959        NaN  \n",
      "2      -0.657048        NaN  \n",
      "3      -0.657048        NaN  \n",
      "4      -0.657048        NaN  \n",
      "\n",
      "[5 rows x 33 columns]\n"
     ]
    },
    {
     "name": "stderr",
     "output_type": "stream",
     "text": [
      "C:\\Users\\AIC\\anaconda3\\Lib\\site-packages\\sklearn\\utils\\extmath.py:1051: RuntimeWarning: invalid value encountered in divide\n",
      "  updated_mean = (last_sum + new_sum) / updated_sample_count\n",
      "C:\\Users\\AIC\\anaconda3\\Lib\\site-packages\\sklearn\\utils\\extmath.py:1056: RuntimeWarning: invalid value encountered in divide\n",
      "  T = new_sum / new_sample_count\n",
      "C:\\Users\\AIC\\anaconda3\\Lib\\site-packages\\sklearn\\utils\\extmath.py:1076: RuntimeWarning: invalid value encountered in divide\n",
      "  new_unnormalized_variance -= correction**2 / new_sample_count\n"
     ]
    }
   ],
   "source": [
    "#Scaling\n",
    "\n",
    "# Initialize the StandardScaler\n",
    "scaler = StandardScaler()\n",
    "\n",
    "# Fit and transform the data\n",
    "scaled_data = scaler.fit_transform(df)\n",
    "\n",
    "# Convert the scaled data back to a DataFrame\n",
    "df_scaled = pd.DataFrame(scaled_data, columns=df.columns)\n",
    "\n",
    "# Check the scaled data\n",
    "print(df_scaled.head())\n"
   ]
  },
  {
   "cell_type": "code",
   "execution_count": 32,
   "id": "2d8af145",
   "metadata": {},
   "outputs": [],
   "source": [
    "from sklearn.model_selection import train_test_split\n",
    "\n",
    "# Define features (X) and target (y)\n",
    "X = df.drop('Diagnosis', axis=1)  # Features: All columns except 'Diagnosis'\n",
    "y = df['Diagnosis']               # Target: 'Diagnosis' column\n",
    "\n",
    "# Split the data into training and testing sets\n",
    "X_train, X_test, y_train, y_test = train_test_split(X, y, test_size=0.2, random_state=42)\n"
   ]
  },
  {
   "cell_type": "code",
   "execution_count": 33,
   "id": "efeba5ed",
   "metadata": {},
   "outputs": [
    {
     "data": {
      "text/html": [
       "<div>\n",
       "<style scoped>\n",
       "    .dataframe tbody tr th:only-of-type {\n",
       "        vertical-align: middle;\n",
       "    }\n",
       "\n",
       "    .dataframe tbody tr th {\n",
       "        vertical-align: top;\n",
       "    }\n",
       "\n",
       "    .dataframe thead th {\n",
       "        text-align: right;\n",
       "    }\n",
       "</style>\n",
       "<table border=\"1\" class=\"dataframe\">\n",
       "  <thead>\n",
       "    <tr style=\"text-align: right;\">\n",
       "      <th></th>\n",
       "      <th>Age</th>\n",
       "      <th>Gender</th>\n",
       "      <th>Ethnicity</th>\n",
       "      <th>EducationLevel</th>\n",
       "      <th>BMI</th>\n",
       "      <th>Smoking</th>\n",
       "      <th>AlcoholConsumption</th>\n",
       "      <th>PhysicalActivity</th>\n",
       "      <th>DietQuality</th>\n",
       "      <th>SleepQuality</th>\n",
       "      <th>...</th>\n",
       "      <th>FunctionalAssessment</th>\n",
       "      <th>MemoryComplaints</th>\n",
       "      <th>BehavioralProblems</th>\n",
       "      <th>ADL</th>\n",
       "      <th>Confusion</th>\n",
       "      <th>Disorientation</th>\n",
       "      <th>PersonalityChanges</th>\n",
       "      <th>DifficultyCompletingTasks</th>\n",
       "      <th>Forgetfulness</th>\n",
       "      <th>Diagnosis</th>\n",
       "    </tr>\n",
       "  </thead>\n",
       "  <tbody>\n",
       "    <tr>\n",
       "      <th>count</th>\n",
       "      <td>2149.000000</td>\n",
       "      <td>2149.000000</td>\n",
       "      <td>2149.000000</td>\n",
       "      <td>2149.000000</td>\n",
       "      <td>2149.000000</td>\n",
       "      <td>2149.000000</td>\n",
       "      <td>2149.000000</td>\n",
       "      <td>2149.000000</td>\n",
       "      <td>2149.000000</td>\n",
       "      <td>2149.000000</td>\n",
       "      <td>...</td>\n",
       "      <td>2149.000000</td>\n",
       "      <td>2149.000000</td>\n",
       "      <td>2149.000000</td>\n",
       "      <td>2149.000000</td>\n",
       "      <td>2149.000000</td>\n",
       "      <td>2149.000000</td>\n",
       "      <td>2149.000000</td>\n",
       "      <td>2149.000000</td>\n",
       "      <td>2149.000000</td>\n",
       "      <td>0.0</td>\n",
       "    </tr>\n",
       "    <tr>\n",
       "      <th>mean</th>\n",
       "      <td>74.908795</td>\n",
       "      <td>0.506282</td>\n",
       "      <td>0.697534</td>\n",
       "      <td>1.286645</td>\n",
       "      <td>27.655697</td>\n",
       "      <td>0.288506</td>\n",
       "      <td>10.039442</td>\n",
       "      <td>4.920202</td>\n",
       "      <td>4.993138</td>\n",
       "      <td>7.051081</td>\n",
       "      <td>...</td>\n",
       "      <td>5.080055</td>\n",
       "      <td>0.208004</td>\n",
       "      <td>0.156817</td>\n",
       "      <td>4.982958</td>\n",
       "      <td>0.205212</td>\n",
       "      <td>0.158213</td>\n",
       "      <td>0.150768</td>\n",
       "      <td>0.158678</td>\n",
       "      <td>0.301536</td>\n",
       "      <td>NaN</td>\n",
       "    </tr>\n",
       "    <tr>\n",
       "      <th>std</th>\n",
       "      <td>8.990221</td>\n",
       "      <td>0.500077</td>\n",
       "      <td>0.996128</td>\n",
       "      <td>0.904527</td>\n",
       "      <td>7.217438</td>\n",
       "      <td>0.453173</td>\n",
       "      <td>5.757910</td>\n",
       "      <td>2.857191</td>\n",
       "      <td>2.909055</td>\n",
       "      <td>1.763573</td>\n",
       "      <td>...</td>\n",
       "      <td>2.892743</td>\n",
       "      <td>0.405974</td>\n",
       "      <td>0.363713</td>\n",
       "      <td>2.949775</td>\n",
       "      <td>0.403950</td>\n",
       "      <td>0.365026</td>\n",
       "      <td>0.357906</td>\n",
       "      <td>0.365461</td>\n",
       "      <td>0.459032</td>\n",
       "      <td>NaN</td>\n",
       "    </tr>\n",
       "    <tr>\n",
       "      <th>min</th>\n",
       "      <td>60.000000</td>\n",
       "      <td>0.000000</td>\n",
       "      <td>0.000000</td>\n",
       "      <td>0.000000</td>\n",
       "      <td>15.008851</td>\n",
       "      <td>0.000000</td>\n",
       "      <td>0.002003</td>\n",
       "      <td>0.003616</td>\n",
       "      <td>0.009385</td>\n",
       "      <td>4.002629</td>\n",
       "      <td>...</td>\n",
       "      <td>0.000460</td>\n",
       "      <td>0.000000</td>\n",
       "      <td>0.000000</td>\n",
       "      <td>0.001288</td>\n",
       "      <td>0.000000</td>\n",
       "      <td>0.000000</td>\n",
       "      <td>0.000000</td>\n",
       "      <td>0.000000</td>\n",
       "      <td>0.000000</td>\n",
       "      <td>NaN</td>\n",
       "    </tr>\n",
       "    <tr>\n",
       "      <th>25%</th>\n",
       "      <td>67.000000</td>\n",
       "      <td>0.000000</td>\n",
       "      <td>0.000000</td>\n",
       "      <td>1.000000</td>\n",
       "      <td>21.611408</td>\n",
       "      <td>0.000000</td>\n",
       "      <td>5.139810</td>\n",
       "      <td>2.570626</td>\n",
       "      <td>2.458455</td>\n",
       "      <td>5.482997</td>\n",
       "      <td>...</td>\n",
       "      <td>2.566281</td>\n",
       "      <td>0.000000</td>\n",
       "      <td>0.000000</td>\n",
       "      <td>2.342836</td>\n",
       "      <td>0.000000</td>\n",
       "      <td>0.000000</td>\n",
       "      <td>0.000000</td>\n",
       "      <td>0.000000</td>\n",
       "      <td>0.000000</td>\n",
       "      <td>NaN</td>\n",
       "    </tr>\n",
       "    <tr>\n",
       "      <th>50%</th>\n",
       "      <td>75.000000</td>\n",
       "      <td>1.000000</td>\n",
       "      <td>0.000000</td>\n",
       "      <td>1.000000</td>\n",
       "      <td>27.823924</td>\n",
       "      <td>0.000000</td>\n",
       "      <td>9.934412</td>\n",
       "      <td>4.766424</td>\n",
       "      <td>5.076087</td>\n",
       "      <td>7.115646</td>\n",
       "      <td>...</td>\n",
       "      <td>5.094439</td>\n",
       "      <td>0.000000</td>\n",
       "      <td>0.000000</td>\n",
       "      <td>5.038973</td>\n",
       "      <td>0.000000</td>\n",
       "      <td>0.000000</td>\n",
       "      <td>0.000000</td>\n",
       "      <td>0.000000</td>\n",
       "      <td>0.000000</td>\n",
       "      <td>NaN</td>\n",
       "    </tr>\n",
       "    <tr>\n",
       "      <th>75%</th>\n",
       "      <td>83.000000</td>\n",
       "      <td>1.000000</td>\n",
       "      <td>1.000000</td>\n",
       "      <td>2.000000</td>\n",
       "      <td>33.869778</td>\n",
       "      <td>1.000000</td>\n",
       "      <td>15.157931</td>\n",
       "      <td>7.427899</td>\n",
       "      <td>7.558625</td>\n",
       "      <td>8.562521</td>\n",
       "      <td>...</td>\n",
       "      <td>7.546981</td>\n",
       "      <td>0.000000</td>\n",
       "      <td>0.000000</td>\n",
       "      <td>7.581490</td>\n",
       "      <td>0.000000</td>\n",
       "      <td>0.000000</td>\n",
       "      <td>0.000000</td>\n",
       "      <td>0.000000</td>\n",
       "      <td>1.000000</td>\n",
       "      <td>NaN</td>\n",
       "    </tr>\n",
       "    <tr>\n",
       "      <th>max</th>\n",
       "      <td>90.000000</td>\n",
       "      <td>1.000000</td>\n",
       "      <td>3.000000</td>\n",
       "      <td>3.000000</td>\n",
       "      <td>39.992767</td>\n",
       "      <td>1.000000</td>\n",
       "      <td>19.989293</td>\n",
       "      <td>9.987429</td>\n",
       "      <td>9.998346</td>\n",
       "      <td>9.999840</td>\n",
       "      <td>...</td>\n",
       "      <td>9.996467</td>\n",
       "      <td>1.000000</td>\n",
       "      <td>1.000000</td>\n",
       "      <td>9.999747</td>\n",
       "      <td>1.000000</td>\n",
       "      <td>1.000000</td>\n",
       "      <td>1.000000</td>\n",
       "      <td>1.000000</td>\n",
       "      <td>1.000000</td>\n",
       "      <td>NaN</td>\n",
       "    </tr>\n",
       "  </tbody>\n",
       "</table>\n",
       "<p>8 rows × 33 columns</p>\n",
       "</div>"
      ],
      "text/plain": [
       "               Age       Gender    Ethnicity  EducationLevel          BMI  \\\n",
       "count  2149.000000  2149.000000  2149.000000     2149.000000  2149.000000   \n",
       "mean     74.908795     0.506282     0.697534        1.286645    27.655697   \n",
       "std       8.990221     0.500077     0.996128        0.904527     7.217438   \n",
       "min      60.000000     0.000000     0.000000        0.000000    15.008851   \n",
       "25%      67.000000     0.000000     0.000000        1.000000    21.611408   \n",
       "50%      75.000000     1.000000     0.000000        1.000000    27.823924   \n",
       "75%      83.000000     1.000000     1.000000        2.000000    33.869778   \n",
       "max      90.000000     1.000000     3.000000        3.000000    39.992767   \n",
       "\n",
       "           Smoking  AlcoholConsumption  PhysicalActivity  DietQuality  \\\n",
       "count  2149.000000         2149.000000       2149.000000  2149.000000   \n",
       "mean      0.288506           10.039442          4.920202     4.993138   \n",
       "std       0.453173            5.757910          2.857191     2.909055   \n",
       "min       0.000000            0.002003          0.003616     0.009385   \n",
       "25%       0.000000            5.139810          2.570626     2.458455   \n",
       "50%       0.000000            9.934412          4.766424     5.076087   \n",
       "75%       1.000000           15.157931          7.427899     7.558625   \n",
       "max       1.000000           19.989293          9.987429     9.998346   \n",
       "\n",
       "       SleepQuality  ...  FunctionalAssessment  MemoryComplaints  \\\n",
       "count   2149.000000  ...           2149.000000       2149.000000   \n",
       "mean       7.051081  ...              5.080055          0.208004   \n",
       "std        1.763573  ...              2.892743          0.405974   \n",
       "min        4.002629  ...              0.000460          0.000000   \n",
       "25%        5.482997  ...              2.566281          0.000000   \n",
       "50%        7.115646  ...              5.094439          0.000000   \n",
       "75%        8.562521  ...              7.546981          0.000000   \n",
       "max        9.999840  ...              9.996467          1.000000   \n",
       "\n",
       "       BehavioralProblems          ADL    Confusion  Disorientation  \\\n",
       "count         2149.000000  2149.000000  2149.000000     2149.000000   \n",
       "mean             0.156817     4.982958     0.205212        0.158213   \n",
       "std              0.363713     2.949775     0.403950        0.365026   \n",
       "min              0.000000     0.001288     0.000000        0.000000   \n",
       "25%              0.000000     2.342836     0.000000        0.000000   \n",
       "50%              0.000000     5.038973     0.000000        0.000000   \n",
       "75%              0.000000     7.581490     0.000000        0.000000   \n",
       "max              1.000000     9.999747     1.000000        1.000000   \n",
       "\n",
       "       PersonalityChanges  DifficultyCompletingTasks  Forgetfulness  Diagnosis  \n",
       "count         2149.000000                2149.000000    2149.000000        0.0  \n",
       "mean             0.150768                   0.158678       0.301536        NaN  \n",
       "std              0.357906                   0.365461       0.459032        NaN  \n",
       "min              0.000000                   0.000000       0.000000        NaN  \n",
       "25%              0.000000                   0.000000       0.000000        NaN  \n",
       "50%              0.000000                   0.000000       0.000000        NaN  \n",
       "75%              0.000000                   0.000000       1.000000        NaN  \n",
       "max              1.000000                   1.000000       1.000000        NaN  \n",
       "\n",
       "[8 rows x 33 columns]"
      ]
     },
     "execution_count": 33,
     "metadata": {},
     "output_type": "execute_result"
    }
   ],
   "source": [
    "df.describe()"
   ]
  },
  {
   "cell_type": "code",
   "execution_count": 34,
   "id": "cf9b214d",
   "metadata": {},
   "outputs": [
    {
     "name": "stdout",
     "output_type": "stream",
     "text": [
      "Index(['Age', 'Gender', 'Ethnicity', 'EducationLevel', 'BMI', 'Smoking',\n",
      "       'AlcoholConsumption', 'PhysicalActivity', 'DietQuality', 'SleepQuality',\n",
      "       'FamilyHistoryAlzheimers', 'CardiovascularDisease', 'Diabetes',\n",
      "       'Depression', 'HeadInjury', 'Hypertension', 'SystolicBP', 'DiastolicBP',\n",
      "       'CholesterolTotal', 'CholesterolLDL', 'CholesterolHDL',\n",
      "       'CholesterolTriglycerides', 'MMSE', 'FunctionalAssessment',\n",
      "       'MemoryComplaints', 'BehavioralProblems', 'ADL', 'Confusion',\n",
      "       'Disorientation', 'PersonalityChanges', 'DifficultyCompletingTasks',\n",
      "       'Forgetfulness'],\n",
      "      dtype='object')\n"
     ]
    }
   ],
   "source": [
    "print(X.columns)\n"
   ]
  },
  {
   "cell_type": "code",
   "execution_count": 35,
   "id": "9d550b7a",
   "metadata": {},
   "outputs": [
    {
     "name": "stdout",
     "output_type": "stream",
     "text": [
      "Index(['Age', 'Gender', 'Ethnicity', 'EducationLevel', 'BMI', 'Smoking',\n",
      "       'AlcoholConsumption', 'PhysicalActivity', 'DietQuality', 'SleepQuality',\n",
      "       'FamilyHistoryAlzheimers', 'CardiovascularDisease', 'Diabetes',\n",
      "       'Depression', 'HeadInjury', 'Hypertension', 'SystolicBP', 'DiastolicBP',\n",
      "       'CholesterolTotal', 'CholesterolLDL', 'CholesterolHDL',\n",
      "       'CholesterolTriglycerides', 'MMSE', 'FunctionalAssessment',\n",
      "       'MemoryComplaints', 'BehavioralProblems', 'ADL', 'Confusion',\n",
      "       'Disorientation', 'PersonalityChanges', 'DifficultyCompletingTasks',\n",
      "       'Forgetfulness', 'Diagnosis'],\n",
      "      dtype='object')\n"
     ]
    }
   ],
   "source": [
    "print(df.columns)\n"
   ]
  },
  {
   "cell_type": "code",
   "execution_count": 42,
   "id": "01082a25",
   "metadata": {},
   "outputs": [
    {
     "name": "stdout",
     "output_type": "stream",
     "text": [
      "0\n"
     ]
    }
   ],
   "source": [
    "# Check for missing values in y\n",
    "print(y.isna().sum())\n"
   ]
  },
  {
   "cell_type": "code",
   "execution_count": 43,
   "id": "b6645517",
   "metadata": {},
   "outputs": [],
   "source": [
    "# Remove rows with NaN in target\n",
    "df = df.dropna(subset=['Diagnosis'])\n",
    "\n",
    "# Re-define features and target\n",
    "X = df.drop('Diagnosis', axis=1)\n",
    "y = df['Diagnosis']\n"
   ]
  },
  {
   "cell_type": "code",
   "execution_count": 44,
   "id": "05b2fa45",
   "metadata": {},
   "outputs": [
    {
     "name": "stdout",
     "output_type": "stream",
     "text": [
      "0\n"
     ]
    }
   ],
   "source": [
    "# Check again for missing values in y\n",
    "print(y.isna().sum())\n"
   ]
  },
  {
   "cell_type": "code",
   "execution_count": 47,
   "id": "0ee47f2e",
   "metadata": {},
   "outputs": [
    {
     "name": "stdout",
     "output_type": "stream",
     "text": [
      "0 0\n"
     ]
    }
   ],
   "source": [
    "# Check the lengths of X and y\n",
    "print(len(X), len(y))\n"
   ]
  },
  {
   "cell_type": "code",
   "execution_count": 48,
   "id": "a124b508",
   "metadata": {},
   "outputs": [
    {
     "name": "stdout",
     "output_type": "stream",
     "text": [
      "float64\n"
     ]
    }
   ],
   "source": [
    "print(y.dtype)\n"
   ]
  },
  {
   "cell_type": "code",
   "execution_count": 49,
   "id": "9aea7f07",
   "metadata": {},
   "outputs": [
    {
     "name": "stdout",
     "output_type": "stream",
     "text": [
      "[]\n"
     ]
    }
   ],
   "source": [
    "print(y.unique())"
   ]
  },
  {
   "cell_type": "code",
   "execution_count": 51,
   "id": "6514effc",
   "metadata": {},
   "outputs": [
    {
     "name": "stdout",
     "output_type": "stream",
     "text": [
      "Number of samples in X: 0\n",
      "Number of samples in y: 0\n"
     ]
    }
   ],
   "source": [
    "# Check the number of samples in X and y\n",
    "print(\"Number of samples in X:\", len(X))\n",
    "print(\"Number of samples in y:\", len(y))\n"
   ]
  },
  {
   "cell_type": "code",
   "execution_count": 53,
   "id": "fc97df9c",
   "metadata": {},
   "outputs": [
    {
     "name": "stdout",
     "output_type": "stream",
     "text": [
      "   PatientID  Age  Gender  Ethnicity  EducationLevel        BMI  Smoking  \\\n",
      "0       4751   73       0          0               2  22.927749        0   \n",
      "1       4752   89       0          0               0  26.827681        0   \n",
      "2       4753   73       0          3               1  17.795882        0   \n",
      "3       4754   74       1          0               1  33.800817        1   \n",
      "4       4755   89       0          0               0  20.716974        0   \n",
      "\n",
      "   AlcoholConsumption  PhysicalActivity  DietQuality  ...  MemoryComplaints  \\\n",
      "0           13.297218          6.327112     1.347214  ...                 0   \n",
      "1            4.542524          7.619885     0.518767  ...                 0   \n",
      "2           19.555085          7.844988     1.826335  ...                 0   \n",
      "3           12.209266          8.428001     7.435604  ...                 0   \n",
      "4           18.454356          6.310461     0.795498  ...                 0   \n",
      "\n",
      "   BehavioralProblems       ADL  Confusion  Disorientation  \\\n",
      "0                   0  1.725883          0               0   \n",
      "1                   0  2.592424          0               0   \n",
      "2                   0  7.119548          0               1   \n",
      "3                   1  6.481226          0               0   \n",
      "4                   0  0.014691          0               0   \n",
      "\n",
      "   PersonalityChanges  DifficultyCompletingTasks  Forgetfulness  Diagnosis  \\\n",
      "0                   0                          1              0          0   \n",
      "1                   0                          0              1          0   \n",
      "2                   0                          1              0          0   \n",
      "3                   0                          0              0          0   \n",
      "4                   1                          1              0          0   \n",
      "\n",
      "   DoctorInCharge  \n",
      "0       XXXConfid  \n",
      "1       XXXConfid  \n",
      "2       XXXConfid  \n",
      "3       XXXConfid  \n",
      "4       XXXConfid  \n",
      "\n",
      "[5 rows x 35 columns]\n",
      "Shape of DataFrame: (2149, 35)\n"
     ]
    }
   ],
   "source": [
    "import pandas as pd\n",
    "\n",
    "# Load the data\n",
    "df = pd.read_csv('alzheimers_disease_data.csv')\n",
    "\n",
    "# Check the first few rows to ensure data is loaded\n",
    "print(df.head())\n",
    "\n",
    "# Check the shape of the DataFrame\n",
    "print(\"Shape of DataFrame:\", df.shape)\n"
   ]
  },
  {
   "cell_type": "code",
   "execution_count": 54,
   "id": "5829c999",
   "metadata": {},
   "outputs": [
    {
     "name": "stdout",
     "output_type": "stream",
     "text": [
      "Number of rows before cleaning: 2149\n",
      "Number of rows after cleaning: 2149\n"
     ]
    }
   ],
   "source": [
    "# Check the number of rows before and after any row removal\n",
    "print(\"Number of rows before cleaning:\", len(df))\n",
    "df = df.dropna()  # Example of dropping rows with missing values\n",
    "print(\"Number of rows after cleaning:\", len(df))\n"
   ]
  },
  {
   "cell_type": "code",
   "execution_count": 55,
   "id": "0eb2f5d6",
   "metadata": {},
   "outputs": [
    {
     "name": "stdout",
     "output_type": "stream",
     "text": [
      "Shape of X: (2149, 34)\n",
      "Shape of y: (2149,)\n"
     ]
    }
   ],
   "source": [
    "# Define features (X) and target (y)\n",
    "X = df.drop('Diagnosis', axis=1, errors='ignore')  # Make sure 'Diagnosis' column is present\n",
    "y = df['Diagnosis']\n",
    "\n",
    "# Check the shapes again\n",
    "print(\"Shape of X:\", X.shape)\n",
    "print(\"Shape of y:\", y.shape)\n"
   ]
  },
  {
   "cell_type": "code",
   "execution_count": 56,
   "id": "0b79d184",
   "metadata": {},
   "outputs": [
    {
     "name": "stdout",
     "output_type": "stream",
     "text": [
      "Shape of X_train: (1719, 34)\n",
      "Shape of X_test: (430, 34)\n",
      "Shape of y_train: (1719,)\n",
      "Shape of y_test: (430,)\n"
     ]
    }
   ],
   "source": [
    "from sklearn.model_selection import train_test_split\n",
    "\n",
    "# Split the data\n",
    "X_train, X_test, y_train, y_test = train_test_split(X, y, test_size=0.2, random_state=42)\n",
    "\n",
    "# Check the shapes of the split data\n",
    "print(\"Shape of X_train:\", X_train.shape)\n",
    "print(\"Shape of X_test:\", X_test.shape)\n",
    "print(\"Shape of y_train:\", y_train.shape)\n",
    "print(\"Shape of y_test:\", y_test.shape)\n"
   ]
  },
  {
   "cell_type": "code",
   "execution_count": 57,
   "id": "9f930b34",
   "metadata": {},
   "outputs": [
    {
     "name": "stdout",
     "output_type": "stream",
     "text": [
      "Columns in DataFrame: Index(['PatientID', 'Age', 'Gender', 'Ethnicity', 'EducationLevel', 'BMI',\n",
      "       'Smoking', 'AlcoholConsumption', 'PhysicalActivity', 'DietQuality',\n",
      "       'SleepQuality', 'FamilyHistoryAlzheimers', 'CardiovascularDisease',\n",
      "       'Diabetes', 'Depression', 'HeadInjury', 'Hypertension', 'SystolicBP',\n",
      "       'DiastolicBP', 'CholesterolTotal', 'CholesterolLDL', 'CholesterolHDL',\n",
      "       'CholesterolTriglycerides', 'MMSE', 'FunctionalAssessment',\n",
      "       'MemoryComplaints', 'BehavioralProblems', 'ADL', 'Confusion',\n",
      "       'Disorientation', 'PersonalityChanges', 'DifficultyCompletingTasks',\n",
      "       'Forgetfulness', 'Diagnosis', 'DoctorInCharge'],\n",
      "      dtype='object')\n"
     ]
    }
   ],
   "source": [
    "print(\"Columns in DataFrame:\", df.columns)\n"
   ]
  },
  {
   "cell_type": "code",
   "execution_count": 58,
   "id": "21e6c708",
   "metadata": {},
   "outputs": [
    {
     "name": "stdout",
     "output_type": "stream",
     "text": [
      "Columns in X after dropping 'DoctorInCharge': Index(['PatientID', 'Age', 'Gender', 'Ethnicity', 'EducationLevel', 'BMI',\n",
      "       'Smoking', 'AlcoholConsumption', 'PhysicalActivity', 'DietQuality',\n",
      "       'SleepQuality', 'FamilyHistoryAlzheimers', 'CardiovascularDisease',\n",
      "       'Diabetes', 'Depression', 'HeadInjury', 'Hypertension', 'SystolicBP',\n",
      "       'DiastolicBP', 'CholesterolTotal', 'CholesterolLDL', 'CholesterolHDL',\n",
      "       'CholesterolTriglycerides', 'MMSE', 'FunctionalAssessment',\n",
      "       'MemoryComplaints', 'BehavioralProblems', 'ADL', 'Confusion',\n",
      "       'Disorientation', 'PersonalityChanges', 'DifficultyCompletingTasks',\n",
      "       'Forgetfulness'],\n",
      "      dtype='object')\n"
     ]
    }
   ],
   "source": [
    "# Drop the 'DoctorInCharge' column if it is not useful\n",
    "X = X.drop('DoctorInCharge', axis=1)\n",
    "\n",
    "# Confirm the column is removed\n",
    "print(\"Columns in X after dropping 'DoctorInCharge':\", X.columns)\n"
   ]
  },
  {
   "cell_type": "code",
   "execution_count": 59,
   "id": "e26642d4",
   "metadata": {},
   "outputs": [
    {
     "name": "stdout",
     "output_type": "stream",
     "text": [
      "Missing values in X: 0\n",
      "Missing values in y: 0\n"
     ]
    }
   ],
   "source": [
    "print(\"Missing values in X:\", X.isna().sum().sum())\n",
    "print(\"Missing values in y:\", y.isna().sum())\n"
   ]
  },
  {
   "cell_type": "code",
   "execution_count": 62,
   "id": "9362933f",
   "metadata": {},
   "outputs": [
    {
     "name": "stdout",
     "output_type": "stream",
     "text": [
      "Columns in DataFrame after dropping 'DoctorInCharge': Index(['PatientID', 'Age', 'Gender', 'Ethnicity', 'EducationLevel', 'BMI',\n",
      "       'Smoking', 'AlcoholConsumption', 'PhysicalActivity', 'DietQuality',\n",
      "       'SleepQuality', 'FamilyHistoryAlzheimers', 'CardiovascularDisease',\n",
      "       'Diabetes', 'Depression', 'HeadInjury', 'Hypertension', 'SystolicBP',\n",
      "       'DiastolicBP', 'CholesterolTotal', 'CholesterolLDL', 'CholesterolHDL',\n",
      "       'CholesterolTriglycerides', 'MMSE', 'FunctionalAssessment',\n",
      "       'MemoryComplaints', 'BehavioralProblems', 'ADL', 'Confusion',\n",
      "       'Disorientation', 'PersonalityChanges', 'DifficultyCompletingTasks',\n",
      "       'Forgetfulness', 'Diagnosis'],\n",
      "      dtype='object')\n"
     ]
    }
   ],
   "source": [
    "# Drop the 'DoctorInCharge' column from the DataFrame\n",
    "df = df.drop('DoctorInCharge', axis=1)\n",
    "\n",
    "# Verify the column is removed\n",
    "print(\"Columns in DataFrame after dropping 'DoctorInCharge':\", df.columns)\n"
   ]
  },
  {
   "cell_type": "code",
   "execution_count": 63,
   "id": "0d49a9a1",
   "metadata": {},
   "outputs": [
    {
     "name": "stdout",
     "output_type": "stream",
     "text": [
      "Missing values in X: 0\n",
      "Missing values in y: 0\n"
     ]
    }
   ],
   "source": [
    "# Define features (X) and target (y) again\n",
    "X = df.drop('Diagnosis', axis=1)  # Features: All columns except 'Diagnosis'\n",
    "y = df['Diagnosis']               # Target: 'Diagnosis' column\n",
    "\n",
    "# Check for missing values again\n",
    "print(\"Missing values in X:\", X.isna().sum().sum())\n",
    "print(\"Missing values in y:\", y.isna().sum())\n"
   ]
  },
  {
   "cell_type": "code",
   "execution_count": 64,
   "id": "22577e67",
   "metadata": {},
   "outputs": [
    {
     "name": "stdout",
     "output_type": "stream",
     "text": [
      "Shape of X_train: (1719, 33)\n",
      "Shape of X_test: (430, 33)\n",
      "Shape of y_train: (1719,)\n",
      "Shape of y_test: (430,)\n"
     ]
    }
   ],
   "source": [
    "from sklearn.model_selection import train_test_split\n",
    "\n",
    "# Split the data into training and testing sets\n",
    "X_train, X_test, y_train, y_test = train_test_split(X, y, test_size=0.2, random_state=42)\n",
    "\n",
    "# Check the shapes of the resulting datasets\n",
    "print(\"Shape of X_train:\", X_train.shape)\n",
    "print(\"Shape of X_test:\", X_test.shape)\n",
    "print(\"Shape of y_train:\", y_train.shape)\n",
    "print(\"Shape of y_test:\", y_test.shape)\n"
   ]
  },
  {
   "cell_type": "code",
   "execution_count": 66,
   "id": "f7c06fce",
   "metadata": {},
   "outputs": [
    {
     "name": "stderr",
     "output_type": "stream",
     "text": [
      "C:\\Users\\AIC\\anaconda3\\Lib\\site-packages\\sklearn\\linear_model\\_logistic.py:460: ConvergenceWarning: lbfgs failed to converge (status=1):\n",
      "STOP: TOTAL NO. of ITERATIONS REACHED LIMIT.\n",
      "\n",
      "Increase the number of iterations (max_iter) or scale the data as shown in:\n",
      "    https://scikit-learn.org/stable/modules/preprocessing.html\n",
      "Please also refer to the documentation for alternative solver options:\n",
      "    https://scikit-learn.org/stable/modules/linear_model.html#logistic-regression\n",
      "  n_iter_i = _check_optimize_result(\n"
     ]
    },
    {
     "data": {
      "text/html": [
       "<style>#sk-container-id-1 {color: black;}#sk-container-id-1 pre{padding: 0;}#sk-container-id-1 div.sk-toggleable {background-color: white;}#sk-container-id-1 label.sk-toggleable__label {cursor: pointer;display: block;width: 100%;margin-bottom: 0;padding: 0.3em;box-sizing: border-box;text-align: center;}#sk-container-id-1 label.sk-toggleable__label-arrow:before {content: \"▸\";float: left;margin-right: 0.25em;color: #696969;}#sk-container-id-1 label.sk-toggleable__label-arrow:hover:before {color: black;}#sk-container-id-1 div.sk-estimator:hover label.sk-toggleable__label-arrow:before {color: black;}#sk-container-id-1 div.sk-toggleable__content {max-height: 0;max-width: 0;overflow: hidden;text-align: left;background-color: #f0f8ff;}#sk-container-id-1 div.sk-toggleable__content pre {margin: 0.2em;color: black;border-radius: 0.25em;background-color: #f0f8ff;}#sk-container-id-1 input.sk-toggleable__control:checked~div.sk-toggleable__content {max-height: 200px;max-width: 100%;overflow: auto;}#sk-container-id-1 input.sk-toggleable__control:checked~label.sk-toggleable__label-arrow:before {content: \"▾\";}#sk-container-id-1 div.sk-estimator input.sk-toggleable__control:checked~label.sk-toggleable__label {background-color: #d4ebff;}#sk-container-id-1 div.sk-label input.sk-toggleable__control:checked~label.sk-toggleable__label {background-color: #d4ebff;}#sk-container-id-1 input.sk-hidden--visually {border: 0;clip: rect(1px 1px 1px 1px);clip: rect(1px, 1px, 1px, 1px);height: 1px;margin: -1px;overflow: hidden;padding: 0;position: absolute;width: 1px;}#sk-container-id-1 div.sk-estimator {font-family: monospace;background-color: #f0f8ff;border: 1px dotted black;border-radius: 0.25em;box-sizing: border-box;margin-bottom: 0.5em;}#sk-container-id-1 div.sk-estimator:hover {background-color: #d4ebff;}#sk-container-id-1 div.sk-parallel-item::after {content: \"\";width: 100%;border-bottom: 1px solid gray;flex-grow: 1;}#sk-container-id-1 div.sk-label:hover label.sk-toggleable__label {background-color: #d4ebff;}#sk-container-id-1 div.sk-serial::before {content: \"\";position: absolute;border-left: 1px solid gray;box-sizing: border-box;top: 0;bottom: 0;left: 50%;z-index: 0;}#sk-container-id-1 div.sk-serial {display: flex;flex-direction: column;align-items: center;background-color: white;padding-right: 0.2em;padding-left: 0.2em;position: relative;}#sk-container-id-1 div.sk-item {position: relative;z-index: 1;}#sk-container-id-1 div.sk-parallel {display: flex;align-items: stretch;justify-content: center;background-color: white;position: relative;}#sk-container-id-1 div.sk-item::before, #sk-container-id-1 div.sk-parallel-item::before {content: \"\";position: absolute;border-left: 1px solid gray;box-sizing: border-box;top: 0;bottom: 0;left: 50%;z-index: -1;}#sk-container-id-1 div.sk-parallel-item {display: flex;flex-direction: column;z-index: 1;position: relative;background-color: white;}#sk-container-id-1 div.sk-parallel-item:first-child::after {align-self: flex-end;width: 50%;}#sk-container-id-1 div.sk-parallel-item:last-child::after {align-self: flex-start;width: 50%;}#sk-container-id-1 div.sk-parallel-item:only-child::after {width: 0;}#sk-container-id-1 div.sk-dashed-wrapped {border: 1px dashed gray;margin: 0 0.4em 0.5em 0.4em;box-sizing: border-box;padding-bottom: 0.4em;background-color: white;}#sk-container-id-1 div.sk-label label {font-family: monospace;font-weight: bold;display: inline-block;line-height: 1.2em;}#sk-container-id-1 div.sk-label-container {text-align: center;}#sk-container-id-1 div.sk-container {/* jupyter's `normalize.less` sets `[hidden] { display: none; }` but bootstrap.min.css set `[hidden] { display: none !important; }` so we also need the `!important` here to be able to override the default hidden behavior on the sphinx rendered scikit-learn.org. See: https://github.com/scikit-learn/scikit-learn/issues/21755 */display: inline-block !important;position: relative;}#sk-container-id-1 div.sk-text-repr-fallback {display: none;}</style><div id=\"sk-container-id-1\" class=\"sk-top-container\"><div class=\"sk-text-repr-fallback\"><pre>LogisticRegression(max_iter=1000)</pre><b>In a Jupyter environment, please rerun this cell to show the HTML representation or trust the notebook. <br />On GitHub, the HTML representation is unable to render, please try loading this page with nbviewer.org.</b></div><div class=\"sk-container\" hidden><div class=\"sk-item\"><div class=\"sk-estimator sk-toggleable\"><input class=\"sk-toggleable__control sk-hidden--visually\" id=\"sk-estimator-id-1\" type=\"checkbox\" checked><label for=\"sk-estimator-id-1\" class=\"sk-toggleable__label sk-toggleable__label-arrow\">LogisticRegression</label><div class=\"sk-toggleable__content\"><pre>LogisticRegression(max_iter=1000)</pre></div></div></div></div></div>"
      ],
      "text/plain": [
       "LogisticRegression(max_iter=1000)"
      ]
     },
     "execution_count": 66,
     "metadata": {},
     "output_type": "execute_result"
    }
   ],
   "source": [
    "from sklearn.linear_model import LogisticRegression\n",
    "from sklearn.metrics import classification_report, accuracy_score\n",
    "\n",
    "# Initialize the model\n",
    "model = LogisticRegression(max_iter=1000)\n",
    "\n",
    "# Train the model\n",
    "model.fit(X_train, y_train)\n",
    "\n",
    "# Predict on the test set\n",
    "#y_pred = model.predict(X_test)\n",
    "\n",
    "# Evaluate the model\n",
    "#accuracy = accuracy_score(y_test, y_pred)\n",
    "#report = classification_report(y_test, y_pred)\n",
    "\n",
    "#print(\"Accuracy:\", accuracy)\n",
    "#print(\"Classification Report:\\n\", report)\n"
   ]
  },
  {
   "cell_type": "code",
   "execution_count": 67,
   "id": "fb3d6177",
   "metadata": {},
   "outputs": [
    {
     "name": "stdout",
     "output_type": "stream",
     "text": [
      "Accuracy: 0.8\n",
      "Classification Report:\n",
      "               precision    recall  f1-score   support\n",
      "\n",
      "           0       0.83      0.87      0.85       277\n",
      "           1       0.74      0.67      0.71       153\n",
      "\n",
      "    accuracy                           0.80       430\n",
      "   macro avg       0.78      0.77      0.78       430\n",
      "weighted avg       0.80      0.80      0.80       430\n",
      "\n"
     ]
    }
   ],
   "source": [
    "from sklearn.metrics import classification_report, accuracy_score\n",
    "# Predict on the test set\n",
    "y_pred = model.predict(X_test)\n",
    "\n",
    "# Evaluate the model\n",
    "accuracy = accuracy_score(y_test, y_pred)\n",
    "report = classification_report(y_test, y_pred)\n",
    "\n",
    "print(\"Accuracy:\", accuracy)\n",
    "print(\"Classification Report:\\n\", report)\n"
   ]
  },
  {
   "cell_type": "code",
   "execution_count": null,
   "id": "9ade1a0e",
   "metadata": {},
   "outputs": [],
   "source": []
  }
 ],
 "metadata": {
  "kernelspec": {
   "display_name": "Python 3 (ipykernel)",
   "language": "python",
   "name": "python3"
  },
  "language_info": {
   "codemirror_mode": {
    "name": "ipython",
    "version": 3
   },
   "file_extension": ".py",
   "mimetype": "text/x-python",
   "name": "python",
   "nbconvert_exporter": "python",
   "pygments_lexer": "ipython3",
   "version": "3.11.5"
  }
 },
 "nbformat": 4,
 "nbformat_minor": 5
}
